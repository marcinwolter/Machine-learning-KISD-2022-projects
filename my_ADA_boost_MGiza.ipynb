{
  "nbformat": 4,
  "nbformat_minor": 0,
  "metadata": {
    "colab": {
      "name": "my_ADA_boost_MGiza.ipynb",
      "provenance": [],
      "collapsed_sections": [],
      "include_colab_link": true
    },
    "kernelspec": {
      "name": "python3",
      "display_name": "Python 3"
    },
    "language_info": {
      "name": "python"
    }
  },
  "cells": [
    {
      "cell_type": "markdown",
      "metadata": {
        "id": "view-in-github",
        "colab_type": "text"
      },
      "source": [
        "<a href=\"https://colab.research.google.com/github/marcinwolter/Machine-learning-KISD-2022-projects/blob/main/my_ADA_boost_MGiza.ipynb\" target=\"_parent\"><img src=\"https://colab.research.google.com/assets/colab-badge.svg\" alt=\"Open In Colab\"/></a>"
      ]
    },
    {
      "cell_type": "markdown",
      "source": [
        "Exercise: My ADAboost algorithm "
      ],
      "metadata": {
        "id": "8YBVR9CKcPuM"
      }
    },
    {
      "cell_type": "code",
      "source": [
        "import numpy as np\n",
        "import matplotlib.pyplot as plt\n",
        "from sklearn.datasets import make_gaussian_quantiles\n",
        "\n",
        "from sklearn.neighbors import KNeighborsClassifier\n",
        "#from sklearn.svm import SVC\n",
        "from sklearn.gaussian_process import GaussianProcessClassifier\n",
        "from sklearn.gaussian_process.kernels import RBF\n",
        "from sklearn.tree import DecisionTreeClassifier\n",
        "from sklearn.ensemble import RandomForestClassifier, AdaBoostClassifier, BaggingClassifier, GradientBoostingClassifier\n",
        "from sklearn.naive_bayes import GaussianNB\n",
        "from sklearn.discriminant_analysis import QuadraticDiscriminantAnalysis\n",
        "from sklearn.discriminant_analysis import LinearDiscriminantAnalysis\n",
        "\n",
        "from sklearn.model_selection import train_test_split\n",
        "\n",
        "from sklearn.metrics import roc_curve\n",
        "from sklearn.metrics import roc_auc_score"
      ],
      "metadata": {
        "id": "_nbbngnhna2o"
      },
      "execution_count": null,
      "outputs": []
    },
    {
      "cell_type": "markdown",
      "source": [
        "My custom function to test the algorithm (based on the one from the third lecture):"
      ],
      "metadata": {
        "id": "LU8ODAnuneut"
      }
    },
    {
      "cell_type": "code",
      "source": [
        "def my_testing_function(clf = DecisionTreeClassifier(max_depth=5), iterations = 10):\n",
        "  # Construct dataset\n",
        "  X1, y1 = make_gaussian_quantiles(cov=2.,\n",
        "                                  n_samples=8000, n_features=2,\n",
        "                                  n_classes=2, random_state=1)\n",
        "  X2, y2 = make_gaussian_quantiles(mean=(3, 3), cov=1.5,\n",
        "                                  n_samples=12000, n_features=2,\n",
        "                                  n_classes=2, random_state=1)\n",
        "  X = np.concatenate((X1, X2))\n",
        "  y = np.concatenate((y1, - y2 + 1))\n",
        "\n",
        "\n",
        "  # Split data into train and test subsets\n",
        "  X_train, X_test, y_train, y_test = train_test_split(\n",
        "      X, y, test_size=0.5, shuffle=True)\n",
        "\n",
        "  # Create and fit a classifier\n",
        "  \n",
        "  #clf = AdaBoostClassifier(DecisionTreeClassifier(max_depth=1),n_estimators=6000)\n",
        "  #clf = AdaBoostClassifier(DecisionTreeClassifier(max_depth=5),n_estimators=600)\n",
        "  #clf = BaggingClassifier(DecisionTreeClassifier(max_depth=5), max_samples=100, n_estimators=100)\n",
        "\n",
        "  #clf = GaussianNB()\n",
        "  #clf = AdaBoostClassifier(learning_rate=2.5,base_estimator=GaussianNB(),n_estimators=500,algorithm='SAMME.R') #,algorithm='SAMME.R')\n",
        "  #clf = BaggingClassifier(GaussianNB(),max_samples=0.009,n_estimators=500)\n",
        "\n",
        "  #clf = KNeighborsClassifier(n_neighbors=3)\n",
        "  #clf = BaggingClassifier(KNeighborsClassifier(n_neighbors=3),n_estimators=500)\n",
        "\n",
        "\n",
        "  #clf = LinearDiscriminantAnalysis()\n",
        "  #clf = BaggingClassifier(LinearDiscriminantAnalysis(),max_samples=8,n_estimators=100)\n",
        "\n",
        "  # More variations of ensamble learning\n",
        "  #clf = GradientBoostingClassifier(learning_rate=0.1,n_estimators=200)\n",
        "  #clf = RandomForestClassifier(n_estimators=200)\n",
        "\n",
        "  if clf == \"my_AdaBoost()\":\n",
        "    my_AdaBoost.fit = fit\n",
        "    my_AdaBoost.predict = predict\n",
        "    clf = my_AdaBoost().fit(X_train, y_train, iters=iterations)  \n",
        "    train_err = (clf.predict(X_train) != y_train).mean()\n",
        "    print(f'Train error: {train_err:.1%}')\n",
        "  else:  \n",
        "    clf.fit(X_train, y_train)\n",
        "    train_err = (clf.predict(X_train) != y_train).mean()\n",
        "    print(f'Train error: {train_err:.1%}')\n",
        "\n",
        "  plot_colors = \"br\"\n",
        "  plot_step = 0.01\n",
        "  class_names = \"AB\"\n",
        "  \n",
        "  plt.figure(figsize=(10, 5))\n",
        "  \n",
        "  # Plot the decision boundaries\n",
        "  x_min, x_max = X_test[:, 0].min() - 1, X_test[:, 0].max() + 1\n",
        "  y_min, y_max = X_test[:, 1].min() - 1, X_test[:, 1].max() + 1\n",
        "  xx, yy = np.meshgrid(np.arange(x_min, x_max, plot_step),\n",
        "                      np.arange(y_min, y_max, plot_step))\n",
        "  \n",
        "  Z = clf.predict(np.c_[xx.ravel(), yy.ravel()])\n",
        "  Z = Z.reshape(xx.shape)\n",
        "  cs = plt.contourf(xx, yy, Z, cmap=plt.cm.Paired)\n",
        "  plt.axis(\"tight\")\n",
        "  if clf == \"my_AdaBoost()\":\n",
        "    if list(np.unique(Z)) == [1]:\n",
        "      fill_colors = ['r']\n",
        "    else:\n",
        "      fill_colors = ['b', 'r']\n",
        "    axis.contourf(xx, yy, Z, colors=fill_colors, alpha=0.2)\n",
        "\n",
        "\n",
        "\n",
        "  #Plot the test points\n",
        "  print(\"Plotting the test points\")\n",
        "  for i, n, c in zip(range(2), class_names, plot_colors):\n",
        "      # plot first 400 test data points\n",
        "      N = min(400,len(y_test))\n",
        "      idx = np.where(y_test[0:N] == i)\n",
        "      plt.scatter(X_test[idx, 0], X_test[idx, 1],\n",
        "                  c=c, cmap=plt.cm.Paired,\n",
        "                  label=\"Class %s\" % n)\n",
        "  plt.xlim(x_min, x_max)\n",
        "  plt.ylim(y_min, y_max)\n",
        "  plt.legend(loc='upper right')\n",
        "  plt.xlabel('x')\n",
        "  plt.ylabel('y')\n",
        "  plt.title('Decision Boundary')"
      ],
      "metadata": {
        "id": "aTnowQ112NGj"
      },
      "execution_count": null,
      "outputs": []
    },
    {
      "cell_type": "markdown",
      "source": [
        "Testing for ordinary classifier:"
      ],
      "metadata": {
        "id": "WiYhJh_Nnw07"
      }
    },
    {
      "cell_type": "code",
      "source": [
        "my_testing_function(clf=AdaBoostClassifier(DecisionTreeClassifier(max_depth=1, max_leaf_nodes=2),n_estimators=25))"
      ],
      "metadata": {
        "colab": {
          "base_uri": "https://localhost:8080/",
          "height": 387
        },
        "id": "ubzq9K5hnv21",
        "outputId": "1f7e61f1-3dfb-4ee3-aed6-c49f34a30731"
      },
      "execution_count": null,
      "outputs": [
        {
          "output_type": "stream",
          "name": "stdout",
          "text": [
            "Train error: 13.3%\n",
            "Plotting the test points\n"
          ]
        },
        {
          "output_type": "display_data",
          "data": {
            "text/plain": [
              "<Figure size 720x360 with 1 Axes>"
            ],
            "image/png": "[encoded data removed]"
          },
          "metadata": {
            "needs_background": "light"
          }
        }
      ]
    },
    {
      "cell_type": "code",
      "source": [
        "from typing import Optional\n",
        "import numpy as np\n",
        "import matplotlib.pyplot as plt\n",
        "import matplotlib as mpl\n",
        "from sklearn.datasets import make_gaussian_quantiles\n",
        "from sklearn.model_selection import train_test_split"
      ],
      "metadata": {
        "id": "MujVR4aUn3MT"
      },
      "execution_count": null,
      "outputs": []
    },
    {
      "cell_type": "markdown",
      "source": [
        "Helper plotting function"
      ],
      "metadata": {
        "id": "MSUgJ4TaMl6E"
      }
    },
    {
      "cell_type": "code",
      "source": [
        "class my_AdaBoost:\n",
        "    \"\"\" AdaBoost classifier from scratch \"\"\"\n",
        "\n",
        "    def __init__(self):\n",
        "        self.stumps = None\n",
        "        self.stump_weights = None\n",
        "        self.errors = None\n",
        "        self.sample_weights = None\n",
        "\n",
        "    def _check_X_y(self, X, y):\n",
        "        \"\"\" Validate assumptions about input data format\"\"\"\n",
        "        assert set(y) == {-1, 1}, 'Response variable must be -1,1'\n",
        "        return X, y"
      ],
      "metadata": {
        "id": "9vvvkXtUM0f8"
      },
      "execution_count": null,
      "outputs": []
    },
    {
      "cell_type": "code",
      "source": [
        "def fit(self, X: np.ndarray, y: np.ndarray, iters: int):\n",
        "    \"\"\" Fit the model using training data \"\"\"\n",
        "    for i in range(len(y)):\n",
        "      if y[i] == 0:\n",
        "        y[i] = -1\n",
        "    \n",
        "    X, y = self._check_X_y(X, y)\n",
        "    n = X.shape[0]\n",
        "    \n",
        "\n",
        "    self.sample_weights = np.zeros(shape=(iters, n))\n",
        "    self.stumps = np.zeros(shape=iters, dtype=object)\n",
        "    self.stump_weights = np.zeros(shape=iters)\n",
        "    self.errors = np.zeros(shape=iters)\n",
        "\n",
        "    \n",
        "    # initialize weights uniformly\n",
        "    self.sample_weights[0] = np.ones(shape=n) / n\n",
        "    for t in range(iters):\n",
        "        # fit weak learner\n",
        "        curr_sample_weights = self.sample_weights[t]\n",
        "        stump = DecisionTreeClassifier(max_depth=1, max_leaf_nodes=2)\n",
        "        stump = stump.fit(X, y, sample_weight=curr_sample_weights)\n",
        "\n",
        "        # calculate error and stump weight from weak learner prediction\n",
        "        stump_pred = stump.predict(X) # this is an array of my predictions, y is an array of true values\n",
        "        I = stump_pred != y\n",
        "\n",
        "        err_nominator = curr_sample_weights[I].sum() #/ n\n",
        "        err_denominator = curr_sample_weights.sum()\n",
        "        err = err_nominator / err_denominator\n",
        "\n",
        "        stump_weight = (np.log((1 - err) / err)) / 2\n",
        "\n",
        "\n",
        "\n",
        "        # update sample weights\n",
        "        new_sample_weights = curr_sample_weights * np.exp(stump_weight * I)\n",
        "\n",
        "        # If not final iteration, update sample weights for t+1\n",
        "        if t+1 < iters:\n",
        "            self.sample_weights[t+1] = new_sample_weights\n",
        "\n",
        "        # save results of iteration\n",
        "        self.stumps[t] = stump\n",
        "        self.stump_weights[t] = stump_weight\n",
        "        self.errors[t] = err\n",
        "\n",
        "    return self"
      ],
      "metadata": {
        "id": "0Bw-8qRSsXJU"
      },
      "execution_count": null,
      "outputs": []
    },
    {
      "cell_type": "code",
      "source": [
        "def predict(self, X):\n",
        "    \"\"\" Make predictions using already fitted model \"\"\"\n",
        "    stump_preds = np.array([stump.predict(X) for stump in self.stumps])\n",
        "    return np.sign(np.dot(self.stump_weights, stump_preds))"
      ],
      "metadata": {
        "id": "kmpW83mfM-IF"
      },
      "execution_count": null,
      "outputs": []
    },
    {
      "cell_type": "markdown",
      "source": [
        "My AdaBoost():"
      ],
      "metadata": {
        "id": "Za6jfmdkboE_"
      }
    },
    {
      "cell_type": "code",
      "source": [
        "my_testing_function(clf=\"my_AdaBoost()\", iterations = 200)"
      ],
      "metadata": {
        "colab": {
          "base_uri": "https://localhost:8080/",
          "height": 387
        },
        "id": "HFJS05c3NCK3",
        "outputId": "7ed6b72a-86da-47ed-f223-f8b6f349ff60"
      },
      "execution_count": null,
      "outputs": [
        {
          "output_type": "stream",
          "name": "stdout",
          "text": [
            "Train error: 11.9%\n",
            "Plotting the test points\n"
          ]
        },
        {
          "output_type": "display_data",
          "data": {
            "text/plain": [
              "<Figure size 720x360 with 1 Axes>"
            ],
            "image/png": "[encoded data removed]"
          },
          "metadata": {
            "needs_background": "light"
          }
        }
      ]
    },
    {
      "cell_type": "markdown",
      "source": [
        "Similar results for 25 estimators in AdaBoostClassifier from scikit and 200 iterations in my function."
      ],
      "metadata": {
        "id": "OOtEkDfBCBMi"
      }
    },
    {
      "cell_type": "code",
      "source": [
        ""
      ],
      "metadata": {
        "id": "eqSMWCptCLqH"
      },
      "execution_count": null,
      "outputs": []
    }
  ]
}